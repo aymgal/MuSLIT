{
 "cells": [
  {
   "cell_type": "markdown",
   "metadata": {},
   "source": [
    "# MuSLIT : Multi-band Sparse Linear Inversion Tool\n",
    "\n",
    "Preliminary tests for an adaptation of principle of SLIT in the formulation of non-negative matrix factorization (NMF). \n",
    "\n",
    "We first make use of the following libraries, at least for these tests :\n",
    "- **PySAP** for efficient wavelet transforms\n",
    "- **proxmin** for NMF optimizer"
   ]
  },
  {
   "cell_type": "markdown",
   "metadata": {},
   "source": [
    "Some $\\LaTeX$ definitions ...\n",
    "$\\newcommand{\\mat}[1]{\\mathsf{#1}}$\n",
    "$\\newcommand{\\matind}[2]{\\mathsf{#1}_{#2}}$\n",
    "$\\newcommand{\\RoneD}[1]{\\mathbb{R}^{#1}}$\n",
    "$\\newcommand{\\RtwoD}[2]{\\mathbb{R}^{#1\\times#2}}$\n",
    "$\\newcommand{\\RthreeD}[3]{\\mathbb{R}^{#1\\times#2\\time#3}}$\n",
    "$\\newcommand{\\Nps}{N_\\mathrm{p,\\,s}}$\n",
    "$\\newcommand{\\Npi}{N_\\mathrm{p,\\,i}}$\n",
    "$\\newcommand{\\Np}{N_\\mathrm{p}}$\n",
    "$\\newcommand{\\Nb}{N_\\mathrm{b}}$\n",
    "$\\newcommand{\\Ns}{N_\\mathrm{s}}$\n",
    "$\\newcommand{\\ie}{\\emph{i.e.}}$\n",
    "$\\newcommand{\\atiter}[1]{^{(#1)}}$\n",
    "$\\newcommand{\\Niter}{N_{\\mathrm{iter}}}$\n",
    "$\\newcommand{\\Nsubiter}{N_{\\mathrm{subiter}}}$\n",
    "$\\newcommand{\\FISTA}[1]{\\mathrm{FISTA}(#1)}$\n",
    "$\\newcommand{\\normzero}[1]{\\left\\lVert #1 \\right\\rVert_0}$\n",
    "$\\newcommand{\\normone}[1]{\\left\\lVert #1 \\right\\rVert_1}$\n",
    "$\\newcommand{\\normtwo}[1]{\\left\\lVert #1 \\right\\rVert_2}$\n",
    "$\\newcommand{\\fidelity}{\\mathcal{D} \\left( \\mat{Y}\\, |\\, \\mat{A_S},\\, \\mat{A_G},\\, \\mat{S},\\, \\mat{G} \\right)}$\n",
    "\n",
    "$\\renewcommand{\\algorithmicrequire}{\\textbf{Input:}}$\n",
    "$\\renewcommand{\\algorithmicensure}{\\textbf{Output:}}$\n",
    "\n",
    "$\\DeclareMathOperator*{\\argmin}{arg\\,min}$"
   ]
  },
  {
   "cell_type": "code",
   "execution_count": 1,
   "metadata": {},
   "outputs": [],
   "source": [
    "import os\n",
    "import sys\n",
    "import numpy as np\n",
    "import pickle as pkl\n",
    "import matplotlib.pyplot as plt\n",
    "\n",
    "import MuSLIT"
   ]
  },
  {
   "cell_type": "markdown",
   "metadata": {},
   "source": [
    "## Problem statement\n",
    "\n",
    "The problem we want to solve can be written as a minimizatiton problem.\n",
    "\n",
    "Synthesis formulation :\n",
    "\\begin{align}\n",
    "        \\argmin_{\\mat{A},\\,\\alpha_\\mat{G},\\,\\alpha_\\mat{S}}&\\ \\normtwo{\\mat{Y}-\\mat{A}\n",
    "        \\begin{bmatrix}\n",
    "            \\left(\\mat{F_\\kappa}\\Phi^\\top\\alpha_\\mat{S}\\right)^\\top \\\\\n",
    "            \\left(\\Phi^\\top\\alpha_\\mat{G}\\right)^\\top\n",
    "        \\end{bmatrix}\n",
    "        }^2 + i_{\\cdot\\geq0}\\!\\left(\\mat{A}\\right) + i_{\\cdot\\geq0}\\!\\left(\\Phi^\\top\\alpha_\\mat{S}\\right) + i_{\\cdot\\geq0}\\!\\left(\\Phi^\\top\\alpha_\\mat{G}\\right) + g_1\\!\\left(\\mat{A}\\right) + \\normzero{\\alpha_\\mat{S}} + \\normzero{\\alpha_\\mat{G}}\n",
    "\\end{align}\n",
    "\n",
    "Analysis formulation (targetted) :\n",
    "\\begin{align}\n",
    "        \\label{eq:final_eq_analysis}\n",
    "        \\argmin_{\\mat{A},\\,\\mat{G},\\,\\mat{S}}&\\ \\normtwo{\\mat{Y}-\\mat{A}\n",
    "        \\begin{bmatrix}\n",
    "            \\left(\\mat{F_\\kappa}\\mat{S}\\right)^\\top \\\\\n",
    "            \\mat{G}^\\top\n",
    "        \\end{bmatrix}\n",
    "        }^2 + i_{\\cdot\\geq0}\\!\\left(\\mat{A}\\right) + i_{\\cdot\\geq0}\\!\\left(\\mat{S}\\right) + i_{\\cdot\\geq0}\\!\\left(\\mat{G}\\right) + g_1\\!\\left(\\mat{A}\\right) + \\normzero{\\Phi\\mat{S}} + \\normzero{\\Phi\\mat{G}}\n",
    "\\end{align}"
   ]
  },
  {
   "cell_type": "code",
   "execution_count": null,
   "metadata": {},
   "outputs": [],
   "source": [
    "modeller = "
   ]
  }
 ],
 "metadata": {
  "kernelspec": {
   "display_name": "Pystro3.6",
   "language": "python",
   "name": "pystro3.6"
  },
  "language_info": {
   "codemirror_mode": {
    "name": "ipython",
    "version": 3
   },
   "file_extension": ".py",
   "mimetype": "text/x-python",
   "name": "python",
   "nbconvert_exporter": "python",
   "pygments_lexer": "ipython3",
   "version": "3.6.8"
  }
 },
 "nbformat": 4,
 "nbformat_minor": 2
}
